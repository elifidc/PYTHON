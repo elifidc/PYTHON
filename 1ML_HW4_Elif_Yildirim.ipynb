{
  "nbformat": 4,
  "nbformat_minor": 0,
  "metadata": {
    "colab": {
      "provenance": []
    },
    "kernelspec": {
      "name": "python3",
      "display_name": "Python 3"
    },
    "language_info": {
      "name": "python"
    }
  },
  "cells": [
    {
      "cell_type": "markdown",
      "source": [
        "Produce some numerical and graphical summaries of the Weekly data. Do there appear to be any patterns?"
      ],
      "metadata": {
        "id": "QvYL83kmjXRA"
      }
    },
    {
      "cell_type": "code",
      "execution_count": 42,
      "metadata": {
        "id": "VXRRf4mXiPwP"
      },
      "outputs": [],
      "source": [
        "import pandas as pd\n",
        "import numpy as np\n",
        "import matplotlib.pyplot as plt\n",
        "import seaborn as sns\n",
        "from sklearn.model_selection import train_test_split\n",
        "from sklearn.preprocessing import StandardScaler\n",
        "from sklearn.linear_model import LogisticRegression\n",
        "from sklearn.metrics import confusion_matrix, classification_report, accuracy_score\n",
        "from sklearn.discriminant_analysis import LinearDiscriminantAnalysis\n",
        "from sklearn.neighbors import KNeighborsClassifier\n",
        "import statsmodels.api as sm"
      ]
    },
    {
      "cell_type": "code",
      "source": [
        "#!pip install ISLP\n",
        "from ISLP import load_data\n",
        "weekly = load_data('Weekly')\n",
        "\n",
        "print(weekly.head())\n",
        "\n",
        "print(weekly.info())\n",
        "print(weekly.describe())"
      ],
      "metadata": {
        "colab": {
          "base_uri": "https://localhost:8080/"
        },
        "id": "06_kGTerjat-",
        "outputId": "81316919-7065-45cc-d490-0927192e4dce"
      },
      "execution_count": 43,
      "outputs": [
        {
          "output_type": "stream",
          "name": "stdout",
          "text": [
            "   Year   Lag1   Lag2   Lag3   Lag4   Lag5    Volume  Today Direction\n",
            "0  1990  0.816  1.572 -3.936 -0.229 -3.484  0.154976 -0.270      Down\n",
            "1  1990 -0.270  0.816  1.572 -3.936 -0.229  0.148574 -2.576      Down\n",
            "2  1990 -2.576 -0.270  0.816  1.572 -3.936  0.159837  3.514        Up\n",
            "3  1990  3.514 -2.576 -0.270  0.816  1.572  0.161630  0.712        Up\n",
            "4  1990  0.712  3.514 -2.576 -0.270  0.816  0.153728  1.178        Up\n",
            "<class 'pandas.core.frame.DataFrame'>\n",
            "RangeIndex: 1089 entries, 0 to 1088\n",
            "Data columns (total 9 columns):\n",
            " #   Column     Non-Null Count  Dtype   \n",
            "---  ------     --------------  -----   \n",
            " 0   Year       1089 non-null   int64   \n",
            " 1   Lag1       1089 non-null   float64 \n",
            " 2   Lag2       1089 non-null   float64 \n",
            " 3   Lag3       1089 non-null   float64 \n",
            " 4   Lag4       1089 non-null   float64 \n",
            " 5   Lag5       1089 non-null   float64 \n",
            " 6   Volume     1089 non-null   float64 \n",
            " 7   Today      1089 non-null   float64 \n",
            " 8   Direction  1089 non-null   category\n",
            "dtypes: category(1), float64(7), int64(1)\n",
            "memory usage: 69.4 KB\n",
            "None\n",
            "              Year         Lag1         Lag2         Lag3         Lag4  \\\n",
            "count  1089.000000  1089.000000  1089.000000  1089.000000  1089.000000   \n",
            "mean   2000.048669     0.150585     0.151079     0.147205     0.145818   \n",
            "std       6.033182     2.357013     2.357254     2.360502     2.360279   \n",
            "min    1990.000000   -18.195000   -18.195000   -18.195000   -18.195000   \n",
            "25%    1995.000000    -1.154000    -1.154000    -1.158000    -1.158000   \n",
            "50%    2000.000000     0.241000     0.241000     0.241000     0.238000   \n",
            "75%    2005.000000     1.405000     1.409000     1.409000     1.409000   \n",
            "max    2010.000000    12.026000    12.026000    12.026000    12.026000   \n",
            "\n",
            "              Lag5       Volume        Today  \n",
            "count  1089.000000  1089.000000  1089.000000  \n",
            "mean      0.139893     1.574618     0.149899  \n",
            "std       2.361285     1.686636     2.356927  \n",
            "min     -18.195000     0.087465   -18.195000  \n",
            "25%      -1.166000     0.332022    -1.154000  \n",
            "50%       0.234000     1.002680     0.241000  \n",
            "75%       1.405000     2.053727     1.405000  \n",
            "max      12.026000     9.328214    12.026000  \n"
          ]
        }
      ]
    },
    {
      "cell_type": "code",
      "source": [
        "#Distribution of Weekly Returns\n",
        "plt.figure(figsize=(8,5))\n",
        "sns.histplot(weekly['Today'], bins=30, kde=True)"
      ],
      "metadata": {
        "colab": {
          "base_uri": "https://localhost:8080/",
          "height": 488
        },
        "id": "0nmEuoiPl8Mg",
        "outputId": "906c735e-4b94-4b49-886a-2cb36d7d5220"
      },
      "execution_count": 44,
      "outputs": [
        {
          "output_type": "execute_result",
          "data": {
            "text/plain": [
              "<Axes: xlabel='Today', ylabel='Count'>"
            ]
          },
          "metadata": {},
          "execution_count": 44
        },
        {
          "output_type": "display_data",
          "data": {
            "text/plain": [
              "<Figure size 800x500 with 1 Axes>"
            ],
            "image/png": "[encoded data removed]"
          },
          "metadata": {}
        }
      ]
    },
    {
      "cell_type": "markdown",
      "source": [
        "Plotting the distribution of weekly returns shows that most of the returns are concentrated around 0. There does appear to be a few outliers on the outskirts of the distribution."
      ],
      "metadata": {
        "id": "naJD8VD5FHdT"
      }
    },
    {
      "cell_type": "code",
      "source": [
        "plt.figure(figsize=(10,5))\n",
        "plt.plot(weekly['Year'], weekly['Volume'], marker='o', alpha=0.5)"
      ],
      "metadata": {
        "colab": {
          "base_uri": "https://localhost:8080/",
          "height": 468
        },
        "id": "BM6cfkIzEyNQ",
        "outputId": "ddce4951-7539-44d0-b558-c2fe486ef2b7"
      },
      "execution_count": 73,
      "outputs": [
        {
          "output_type": "execute_result",
          "data": {
            "text/plain": [
              "[<matplotlib.lines.Line2D at 0x797707c7a5d0>]"
            ]
          },
          "metadata": {},
          "execution_count": 73
        },
        {
          "output_type": "display_data",
          "data": {
            "text/plain": [
              "<Figure size 1000x500 with 1 Axes>"
            ],
            "image/png": "[encoded data removed]"
          },
          "metadata": {}
        }
      ]
    },
    {
      "cell_type": "markdown",
      "source": [
        "When we plot the trading volume over time, we can see that the volume has grown a significant amount over time. The graph indicates a rapid growth of the market, starting roughly near 2002."
      ],
      "metadata": {
        "id": "rPAgczHtFuhr"
      }
    },
    {
      "cell_type": "markdown",
      "source": [
        "Use the full data set to perform a logistic regression with\n",
        "Direction as the response and the five lag variables plus Volume as predictors. Use the summary function to print the results. Do any of the predictors appear to be statistically significant? If so, which ones?"
      ],
      "metadata": {
        "id": "VeoNy385lCvE"
      }
    },
    {
      "cell_type": "code",
      "source": [
        "weekly['Direction'] = (weekly['Direction'] == 'Up').astype(int)\n",
        "X = weekly[['Lag1', 'Lag2','Lag3','Lag4','Lag5','Volume']]\n",
        "Y = weekly['Direction']\n",
        "X = sm.add_constant(X)"
      ],
      "metadata": {
        "id": "DOfar7ZKlEpk"
      },
      "execution_count": 45,
      "outputs": []
    },
    {
      "cell_type": "code",
      "source": [
        "logit_model = sm.Logit(Y, X).fit()\n",
        "print(logit_model.summary())"
      ],
      "metadata": {
        "colab": {
          "base_uri": "https://localhost:8080/"
        },
        "id": "hPeEk4OGnTVV",
        "outputId": "1bacd545-2e24-4a2b-bbca-b0a1240d383d"
      },
      "execution_count": 46,
      "outputs": [
        {
          "output_type": "stream",
          "name": "stdout",
          "text": [
            "Optimization terminated successfully.\n",
            "         Current function value: 0.682441\n",
            "         Iterations 4\n",
            "                           Logit Regression Results                           \n",
            "==============================================================================\n",
            "Dep. Variable:              Direction   No. Observations:                 1089\n",
            "Model:                          Logit   Df Residuals:                     1082\n",
            "Method:                           MLE   Df Model:                            6\n",
            "Date:                Fri, 07 Mar 2025   Pseudo R-squ.:                0.006580\n",
            "Time:                        23:49:25   Log-Likelihood:                -743.18\n",
            "converged:                       True   LL-Null:                       -748.10\n",
            "Covariance Type:            nonrobust   LLR p-value:                    0.1313\n",
            "==============================================================================\n",
            "                 coef    std err          z      P>|z|      [0.025      0.975]\n",
            "------------------------------------------------------------------------------\n",
            "const          0.2669      0.086      3.106      0.002       0.098       0.435\n",
            "Lag1          -0.0413      0.026     -1.563      0.118      -0.093       0.010\n",
            "Lag2           0.0584      0.027      2.175      0.030       0.006       0.111\n",
            "Lag3          -0.0161      0.027     -0.602      0.547      -0.068       0.036\n",
            "Lag4          -0.0278      0.026     -1.050      0.294      -0.080       0.024\n",
            "Lag5          -0.0145      0.026     -0.549      0.583      -0.066       0.037\n",
            "Volume        -0.0227      0.037     -0.616      0.538      -0.095       0.050\n",
            "==============================================================================\n"
          ]
        }
      ]
    },
    {
      "cell_type": "markdown",
      "source": [
        "When looking at the p-values for the logistic model summary, the variable lag2 appears to be a statistically significant predictor. All of the other predictors have a p-value greater than 0.05. However, when you look at the pseudo-R-squared of 0.006, we see that this model only accounts for a very small amount of the variability in returns based on this set of predictors."
      ],
      "metadata": {
        "id": "l0oILmQwoOgs"
      }
    },
    {
      "cell_type": "markdown",
      "source": [
        "Compute the confusion matrix and overall fraction of correct predictions. Explain what the confusion matrix is telling you about the types of mistakes made by logistic regression."
      ],
      "metadata": {
        "id": "E6aNaeGSoT7G"
      }
    },
    {
      "cell_type": "code",
      "source": [
        "Y_pred = logit_model.predict(X) > 0.5\n",
        "conf_matrix = confusion_matrix(Y, Y_pred)\n",
        "accuracy = accuracy_score(Y, Y_pred)\n",
        "print(conf_matrix)\n",
        "print(accuracy)"
      ],
      "metadata": {
        "colab": {
          "base_uri": "https://localhost:8080/"
        },
        "id": "mgCNdvMlosdQ",
        "outputId": "08872dc7-30d6-4f37-a5cd-ff848014e2b2"
      },
      "execution_count": 47,
      "outputs": [
        {
          "output_type": "stream",
          "name": "stdout",
          "text": [
            "[[ 54 430]\n",
            " [ 48 557]]\n",
            "0.5610651974288338\n"
          ]
        }
      ]
    },
    {
      "cell_type": "markdown",
      "source": [
        "When looking at our confusion matrix, we can see the true positive, false positive, true negative, and false negative rates of the model. Our overall accuracy is 56%, where 50% represents random guessing. Looking at the matrix, we see that the model predicted 430 false positives. (up when actually down)\n",
        "Additionally, the model has a true negative count of 54, which means it is struggling to correctly identify when the market will decrease. This is consistent with the high false positive rate mentioned. Overall, the model is predicting up too much.\n"
      ],
      "metadata": {
        "id": "mhDm-OhmqQGh"
      }
    },
    {
      "cell_type": "markdown",
      "source": [
        " Now fit the logistic regression model using a training data period from 1990 to 2008, with Lag2 as the only predictor. Compute the confusion matrix and the overall fraction of correct predictions for the held out data (that is, the data from 2009 and 2010)."
      ],
      "metadata": {
        "id": "VlF5knI3st2N"
      }
    },
    {
      "cell_type": "code",
      "source": [
        "train_data = weekly[weekly['Year'] <= 2008]\n",
        "test_data = weekly[weekly['Year'] > 2008]\n",
        "#test_data.head()\n",
        "#train_data.head()\n",
        "X_train = train_data['Lag2']\n",
        "Y_train = train_data['Direction']\n",
        "\n",
        "X_test = test_data['Lag2']\n",
        "Y_test = test_data['Direction']\n",
        "X_train = sm.add_constant(X_train)\n",
        "X_test = sm.add_constant(X_test)\n",
        "\n",
        "\n",
        "logit_model = sm.Logit(Y_train, X_train).fit()\n",
        "print(logit_model.summary())"
      ],
      "metadata": {
        "colab": {
          "base_uri": "https://localhost:8080/"
        },
        "id": "Kfmr90lxsplS",
        "outputId": "890452c3-fc06-412b-9539-2ba194936b95"
      },
      "execution_count": 48,
      "outputs": [
        {
          "output_type": "stream",
          "name": "stdout",
          "text": [
            "Optimization terminated successfully.\n",
            "         Current function value: 0.685555\n",
            "         Iterations 4\n",
            "                           Logit Regression Results                           \n",
            "==============================================================================\n",
            "Dep. Variable:              Direction   No. Observations:                  985\n",
            "Model:                          Logit   Df Residuals:                      983\n",
            "Method:                           MLE   Df Model:                            1\n",
            "Date:                Fri, 07 Mar 2025   Pseudo R-squ.:                0.003076\n",
            "Time:                        23:49:25   Log-Likelihood:                -675.27\n",
            "converged:                       True   LL-Null:                       -677.35\n",
            "Covariance Type:            nonrobust   LLR p-value:                   0.04123\n",
            "==============================================================================\n",
            "                 coef    std err          z      P>|z|      [0.025      0.975]\n",
            "------------------------------------------------------------------------------\n",
            "const          0.2033      0.064      3.162      0.002       0.077       0.329\n",
            "Lag2           0.0581      0.029      2.024      0.043       0.002       0.114\n",
            "==============================================================================\n"
          ]
        }
      ]
    },
    {
      "cell_type": "code",
      "source": [
        "Y_pred_probs = logit_model.predict(X_test)\n",
        "Y_pred = (Y_pred_probs > 0.5).astype(int)\n",
        "accuracy2 = accuracy_score(Y_test, Y_pred)\n",
        "conf_matrix2 = confusion_matrix(Y_test, Y_pred)"
      ],
      "metadata": {
        "id": "K8qLxPA-wTvl"
      },
      "execution_count": 49,
      "outputs": []
    },
    {
      "cell_type": "code",
      "source": [
        "print(conf_matrix2)\n",
        "print(accuracy2)"
      ],
      "metadata": {
        "colab": {
          "base_uri": "https://localhost:8080/"
        },
        "id": "8cXu3obowk3Q",
        "outputId": "95f91676-6b45-4b91-bde7-2b9395e87b6c"
      },
      "execution_count": 50,
      "outputs": [
        {
          "output_type": "stream",
          "name": "stdout",
          "text": [
            "[[ 9 34]\n",
            " [ 5 56]]\n",
            "0.625\n"
          ]
        }
      ]
    },
    {
      "cell_type": "markdown",
      "source": [
        "When we fit the logistic model to the training data with lag2 as the only predictor, we get a similar result, with a p-value lower than 0.05. However, the R-squared for the model is still very very low, indicating the model does not explain the variability in the direction of return. The correlation matrix shows us that the model is making a lot of false negatives, meaning it is predicting down when actually up."
      ],
      "metadata": {
        "id": "LnAJU4jSs2BK"
      }
    },
    {
      "cell_type": "markdown",
      "source": [
        "LDA"
      ],
      "metadata": {
        "id": "ZFvL3SStwtr5"
      }
    },
    {
      "cell_type": "code",
      "source": [
        "lda = LinearDiscriminantAnalysis()\n",
        "lda.fit(X_train, Y_train)\n",
        "Y_pred_lda = lda.predict(X_test)"
      ],
      "metadata": {
        "id": "8yuq4GgPxowS"
      },
      "execution_count": 51,
      "outputs": []
    },
    {
      "cell_type": "code",
      "source": [
        "conf_matrix_lda = confusion_matrix(Y_test, Y_pred_lda)\n",
        "print(conf_matrix_lda)\n",
        "accuracy_lda = accuracy_score(Y_test, Y_pred_lda)\n",
        "print(accuracy_lda)"
      ],
      "metadata": {
        "colab": {
          "base_uri": "https://localhost:8080/"
        },
        "id": "OCHBFH9yyYQz",
        "outputId": "a00fe266-8b5c-4b5d-923d-45e7b6e01680"
      },
      "execution_count": 52,
      "outputs": [
        {
          "output_type": "stream",
          "name": "stdout",
          "text": [
            "[[ 9 34]\n",
            " [ 5 56]]\n",
            "0.625\n"
          ]
        }
      ]
    },
    {
      "cell_type": "markdown",
      "source": [
        "When we use LDA on the training data, we obtain the same results as the logistic regression."
      ],
      "metadata": {
        "id": "BmIHq1JMuCgc"
      }
    },
    {
      "cell_type": "markdown",
      "source": [
        "KNN"
      ],
      "metadata": {
        "id": "S3W2nQuKmP2u"
      }
    },
    {
      "cell_type": "code",
      "source": [
        "scaler = StandardScaler()\n",
        "X_train_scaled = scaler.fit_transform(train_data[['Lag2']])\n",
        "X_test_scaled = scaler.transform(test_data[['Lag2']])\n",
        "knn = KNeighborsClassifier(n_neighbors=1)\n",
        "knn.fit(X_train_scaled, Y_train)\n",
        "knn_y_pred = knn.predict(X_test_scaled)\n",
        "\n",
        "\n",
        "\n",
        "conf_matrix_knn = confusion_matrix(Y_test, knn_y_pred)\n",
        "print(conf_matrix_knn)"
      ],
      "metadata": {
        "colab": {
          "base_uri": "https://localhost:8080/"
        },
        "id": "fP77pmvsmIfo",
        "outputId": "2dd3f7d3-0e23-42cd-c0a1-0cacc4ab7d34"
      },
      "execution_count": 53,
      "outputs": [
        {
          "output_type": "stream",
          "name": "stdout",
          "text": [
            "[[22 21]\n",
            " [32 29]]\n"
          ]
        }
      ]
    },
    {
      "cell_type": "code",
      "source": [
        "knn_accuracy = accuracy_score(Y_test, knn_y_pred)\n",
        "print(knn_accuracy)"
      ],
      "metadata": {
        "colab": {
          "base_uri": "https://localhost:8080/"
        },
        "id": "TwuN7uO6m7dy",
        "outputId": "bbc93e9c-87ac-4779-8a4d-a151f8d0bf61"
      },
      "execution_count": 54,
      "outputs": [
        {
          "output_type": "stream",
          "name": "stdout",
          "text": [
            "0.49038461538461536\n"
          ]
        }
      ]
    },
    {
      "cell_type": "markdown",
      "source": [
        " Which of these methods appears to provide the best results on this data?\n",
        "\n",
        ""
      ],
      "metadata": {
        "id": "3C2IdVufncCw"
      }
    },
    {
      "cell_type": "code",
      "source": [
        "print(classification_report(Y_test, Y_pred))"
      ],
      "metadata": {
        "colab": {
          "base_uri": "https://localhost:8080/"
        },
        "id": "X94vwVv8nf41",
        "outputId": "e6f3a72c-7b11-428f-8501-7dbc71277ebf"
      },
      "execution_count": 55,
      "outputs": [
        {
          "output_type": "stream",
          "name": "stdout",
          "text": [
            "              precision    recall  f1-score   support\n",
            "\n",
            "           0       0.64      0.21      0.32        43\n",
            "           1       0.62      0.92      0.74        61\n",
            "\n",
            "    accuracy                           0.62       104\n",
            "   macro avg       0.63      0.56      0.53       104\n",
            "weighted avg       0.63      0.62      0.57       104\n",
            "\n"
          ]
        }
      ]
    },
    {
      "cell_type": "code",
      "source": [
        "print(classification_report(Y_test, Y_pred_lda))"
      ],
      "metadata": {
        "colab": {
          "base_uri": "https://localhost:8080/"
        },
        "id": "w_uBBP16nyAL",
        "outputId": "f7a25783-75ac-4a4e-d54d-8561f92fea39"
      },
      "execution_count": 56,
      "outputs": [
        {
          "output_type": "stream",
          "name": "stdout",
          "text": [
            "              precision    recall  f1-score   support\n",
            "\n",
            "           0       0.64      0.21      0.32        43\n",
            "           1       0.62      0.92      0.74        61\n",
            "\n",
            "    accuracy                           0.62       104\n",
            "   macro avg       0.63      0.56      0.53       104\n",
            "weighted avg       0.63      0.62      0.57       104\n",
            "\n"
          ]
        }
      ]
    },
    {
      "cell_type": "code",
      "source": [
        "print(classification_report(Y_test, knn_y_pred))"
      ],
      "metadata": {
        "colab": {
          "base_uri": "https://localhost:8080/"
        },
        "id": "nZAkVA6Pn6Js",
        "outputId": "36ef6d71-d69f-4cd7-e03d-fb7afa28aeb3"
      },
      "execution_count": 57,
      "outputs": [
        {
          "output_type": "stream",
          "name": "stdout",
          "text": [
            "              precision    recall  f1-score   support\n",
            "\n",
            "           0       0.41      0.51      0.45        43\n",
            "           1       0.58      0.48      0.52        61\n",
            "\n",
            "    accuracy                           0.49       104\n",
            "   macro avg       0.49      0.49      0.49       104\n",
            "weighted avg       0.51      0.49      0.49       104\n",
            "\n"
          ]
        }
      ]
    },
    {
      "cell_type": "markdown",
      "source": [
        "When looking at the summaries of all three models, we get very similar results for LDA and logistic regression. These models have a high recall for \"1\", aka Direction: Up. This means they correctly predict most of the time the market will increase. Out of all actual positive cases, the LDA and logistic models catch 92% of them. However, both of these models are poor at predicting when the market will decrease, as reflected in their recall for 0, 0.21. This means that they are missing most of the down cases. However, the overall accuracy of the model is roughly ~63%, which might be considered good in certain industries.\n",
        "\n",
        "The summary of the KNN model is a little different. The overall accuracy of KNN model is 49%, meaning it is worse than random guessing. Additionally, the recalls for both 0 and 1 predictions are low, meaning the model is not doing a good job at correctly identifying neither market increases, nor market decreases. The KNN model appears to be the weakest overall, likely due to k=1 causing overfitting to noise in the data."
      ],
      "metadata": {
        "id": "TcQPm4ZEoFiq"
      }
    },
    {
      "cell_type": "markdown",
      "source": [
        "J) Adjusting K & predictors"
      ],
      "metadata": {
        "id": "fPJ5bvzQoIaG"
      }
    },
    {
      "cell_type": "code",
      "source": [
        "X_j_train = train_data[['Lag1', 'Lag2']]\n",
        "Y_j_train = train_data['Direction']\n",
        "X_j_test = test_data[['Lag1', 'Lag2']]\n",
        "Y_j_test = test_data['Direction']\n",
        "X_j_train = sm.add_constant(X_train)\n",
        "X_j_test = sm.add_constant(X_test)"
      ],
      "metadata": {
        "id": "WIMSws1iA6Tn"
      },
      "execution_count": 59,
      "outputs": []
    },
    {
      "cell_type": "code",
      "source": [
        "logit_j_model = sm.Logit(Y_j_train, X_j_train).fit()\n",
        "Y_pred_j = (logit_model.predict(X_test) > 0.5).astype(int)\n",
        "\n",
        "j_conf_matrix = confusion_matrix(Y_j_test, Y_pred_j)\n",
        "j_accuracy = accuracy_score(Y_j_test, Y_pred_j)"
      ],
      "metadata": {
        "colab": {
          "base_uri": "https://localhost:8080/"
        },
        "id": "Yq6vfURZBkHC",
        "outputId": "bbcdbc83-e119-49ed-838d-55a000c5d367"
      },
      "execution_count": 62,
      "outputs": [
        {
          "output_type": "stream",
          "name": "stdout",
          "text": [
            "Optimization terminated successfully.\n",
            "         Current function value: 0.685555\n",
            "         Iterations 4\n"
          ]
        }
      ]
    },
    {
      "cell_type": "code",
      "source": [
        "print(j_conf_matrix)\n",
        "print(j_accuracy)"
      ],
      "metadata": {
        "colab": {
          "base_uri": "https://localhost:8080/"
        },
        "id": "FVCf4Bn4CDDu",
        "outputId": "748a925d-e12e-417b-8c68-2740b081dc1e"
      },
      "execution_count": 63,
      "outputs": [
        {
          "output_type": "stream",
          "name": "stdout",
          "text": [
            "[[ 9 34]\n",
            " [ 5 56]]\n",
            "0.625\n"
          ]
        }
      ]
    },
    {
      "cell_type": "markdown",
      "source": [
        "When we add a second predictor, lag1, the accuracy of the model remains the same. This means that adding this second predictor did not add much predictive power. The false negative rate is still high as well."
      ],
      "metadata": {
        "id": "p0twNCNgCUD6"
      }
    },
    {
      "cell_type": "code",
      "source": [
        "knn_3 = KNeighborsClassifier(n_neighbors=3)\n",
        "knn_3.fit(X_train_scaled, Y_train)\n",
        "\n",
        "knn3_y_pred = knn_3.predict(X_test_scaled)\n",
        "\n",
        "cm_knn_3 = confusion_matrix(Y_test, knn3_y_pred)\n",
        "print(cm_knn_3)\n"
      ],
      "metadata": {
        "colab": {
          "base_uri": "https://localhost:8080/"
        },
        "id": "yWRMlzl9CiOw",
        "outputId": "948852bf-9a0e-44f9-ff4b-7139f6363288"
      },
      "execution_count": 67,
      "outputs": [
        {
          "output_type": "stream",
          "name": "stdout",
          "text": [
            "[[16 27]\n",
            " [18 43]]\n"
          ]
        }
      ]
    },
    {
      "cell_type": "markdown",
      "source": [
        "When we adjust the number of neighbors in our model, we notice some changes. The number of true positives increased, meaning the model is correctly predicting up more often than before. Similarly, the false positive rate decreased. However, the number of false negatives also increased, meaning the model is missing more up predictions than before."
      ],
      "metadata": {
        "id": "qis5fUZ_DymZ"
      }
    }
  ]
}